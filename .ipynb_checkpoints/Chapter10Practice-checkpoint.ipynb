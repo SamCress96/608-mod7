{
 "cells": [
  {
   "cell_type": "markdown",
   "id": "73b6cc43",
   "metadata": {},
   "source": [
    "## Chapter 10 Practice Samantha Cress"
   ]
  },
  {
   "cell_type": "markdown",
   "id": "fd213d7b",
   "metadata": {},
   "source": [
    "## 10.2.1 Test-Driving Class Account\n",
    "Each new class you create becomes a new data type that can be used to create objects. This is one reason why Python is said to be an extensible language Before we look at class Account’s definition, let’s demonstrate its capabilities.\n",
    "\n",
    "Importing Classes Account and Decimal\n",
    "To use the new Account class, launch your IPython session from the ch10 examples folder, then import class Account:"
   ]
  },
  {
   "cell_type": "code",
   "execution_count": 1,
   "id": "19e012ce",
   "metadata": {},
   "outputs": [],
   "source": [
    "from account import Account"
   ]
  },
  {
   "cell_type": "markdown",
   "id": "b12c28e6",
   "metadata": {},
   "source": [
    "Class Account maintains and manipulates the account balance as a Decimal, so we also import class Decimal:"
   ]
  },
  {
   "cell_type": "code",
   "execution_count": 2,
   "id": "ea7d36be",
   "metadata": {},
   "outputs": [],
   "source": [
    "from decimal import Decimal"
   ]
  },
  {
   "cell_type": "markdown",
   "id": "c6651b6a",
   "metadata": {},
   "source": [
    "Create an Account Object with a Constructor Expression\n",
    "To create a Decimal object, we can write:"
   ]
  },
  {
   "cell_type": "code",
   "execution_count": 3,
   "id": "4029661c",
   "metadata": {},
   "outputs": [],
   "source": [
    "value = Decimal('12.34')"
   ]
  },
  {
   "cell_type": "markdown",
   "id": "1b09f0dd",
   "metadata": {},
   "source": [
    "This is known as a constructor expression because it builds and initializes an object of the class"
   ]
  },
  {
   "cell_type": "markdown",
   "id": "f423f7c3",
   "metadata": {},
   "source": [
    "Let’s use a constructor expression to create an Account object and initialize it with an account holder’s name (a string) and balance (a Decimal):"
   ]
  },
  {
   "cell_type": "code",
   "execution_count": 4,
   "id": "1f1771b7",
   "metadata": {},
   "outputs": [],
   "source": [
    "account1 = Account('John Green', Decimal('50.00'))"
   ]
  },
  {
   "cell_type": "markdown",
   "id": "202a7171",
   "metadata": {},
   "source": [
    "Getting an Account’s Name and Balance\n",
    "Let’s access the Account object’s name and balance attributes:"
   ]
  },
  {
   "cell_type": "code",
   "execution_count": 5,
   "id": "b06382ba",
   "metadata": {},
   "outputs": [
    {
     "data": {
      "text/plain": [
       "'John Green'"
      ]
     },
     "execution_count": 5,
     "metadata": {},
     "output_type": "execute_result"
    }
   ],
   "source": [
    "account1.name"
   ]
  },
  {
   "cell_type": "code",
   "execution_count": 6,
   "id": "f94ab749",
   "metadata": {},
   "outputs": [
    {
     "data": {
      "text/plain": [
       "Decimal('50.00')"
      ]
     },
     "execution_count": 6,
     "metadata": {},
     "output_type": "execute_result"
    }
   ],
   "source": [
    "account1.balance"
   ]
  },
  {
   "cell_type": "markdown",
   "id": "85e069f0",
   "metadata": {},
   "source": [
    "Depositing Money into an Account \n",
    "An Account’s deposit method receives a positive dollar amount and adds it to the balance:"
   ]
  },
  {
   "cell_type": "code",
   "execution_count": 7,
   "id": "40982597",
   "metadata": {},
   "outputs": [],
   "source": [
    "account1.deposit(Decimal('25.53'))"
   ]
  },
  {
   "cell_type": "code",
   "execution_count": 8,
   "id": "0fb663c5",
   "metadata": {},
   "outputs": [
    {
     "data": {
      "text/plain": [
       "Decimal('75.53')"
      ]
     },
     "execution_count": 8,
     "metadata": {},
     "output_type": "execute_result"
    }
   ],
   "source": [
    "account1.balance"
   ]
  },
  {
   "cell_type": "markdown",
   "id": "3f358a77",
   "metadata": {},
   "source": [
    "Account Methods Perform Validation\n",
    "Class Account’s methods validate their arguments. For example, if a deposit amount is negative, deposit raises a ValueError"
   ]
  },
  {
   "cell_type": "markdown",
   "id": "3f2c7d1c",
   "metadata": {},
   "source": [
    "Account?"
   ]
  },
  {
   "cell_type": "markdown",
   "id": "64a06abb",
   "metadata": {},
   "source": [
    "Init signature: Account(name, balance)\n",
    "Docstring:      Account class for maintaining a bank account balance.\n",
    "Init docstring: Initialize an Account object.\n",
    "File:           c:\\users\\samcr\\onedrive\\documents\\44-608\\608-mod7\\account.py\n",
    "Type:           type\n",
    "Subclasses:     "
   ]
  },
  {
   "cell_type": "markdown",
   "id": "2d5234ce",
   "metadata": {},
   "source": [
    "Self Check"
   ]
  },
  {
   "cell_type": "code",
   "execution_count": 9,
   "id": "76ece14f",
   "metadata": {},
   "outputs": [],
   "source": [
    "def withdraw(self, amount):\n",
    "    \"\"\"Withdraw money from the account.\"\"\"\n",
    "\n",
    "    # if amount is greater than balance, raise an exception\n",
    "    if amount > self.balance:\n",
    "       raise ValueError('amount must be <= to balance.')\n",
    "    elif amount < Decimal('0.00'):\n",
    "       raise ValueError('amount must be positive.')\n",
    "\n",
    "    self.balance -= amount"
   ]
  },
  {
   "cell_type": "code",
   "execution_count": 10,
   "id": "5c469454",
   "metadata": {},
   "outputs": [],
   "source": [
    "from account import Account"
   ]
  },
  {
   "cell_type": "code",
   "execution_count": 11,
   "id": "58dda5d0",
   "metadata": {},
   "outputs": [],
   "source": [
    "from decimal import Decimal"
   ]
  },
  {
   "cell_type": "code",
   "execution_count": 12,
   "id": "6435bc77",
   "metadata": {},
   "outputs": [],
   "source": [
    "account1 = Account('John Green', Decimal('50.00'))"
   ]
  },
  {
   "cell_type": "code",
   "execution_count": 13,
   "id": "5a9edb86",
   "metadata": {},
   "outputs": [
    {
     "data": {
      "text/plain": [
       "Decimal('50.00')"
      ]
     },
     "execution_count": 13,
     "metadata": {},
     "output_type": "execute_result"
    }
   ],
   "source": [
    "account1.balance"
   ]
  },
  {
   "cell_type": "markdown",
   "id": "b106471b",
   "metadata": {},
   "source": [
    "## 10.3 Controlling Access to Attributes"
   ]
  },
  {
   "cell_type": "code",
   "execution_count": 14,
   "id": "df29e8b3",
   "metadata": {},
   "outputs": [],
   "source": [
    "from account import Account"
   ]
  },
  {
   "cell_type": "code",
   "execution_count": 15,
   "id": "e90fe2a7",
   "metadata": {},
   "outputs": [],
   "source": [
    "from decimal import Decimal"
   ]
  },
  {
   "cell_type": "code",
   "execution_count": 16,
   "id": "d60f4da3",
   "metadata": {},
   "outputs": [],
   "source": [
    "account1 = Account('John Green', Decimal('50.00'))"
   ]
  },
  {
   "cell_type": "code",
   "execution_count": 17,
   "id": "9786dc25",
   "metadata": {},
   "outputs": [
    {
     "data": {
      "text/plain": [
       "Decimal('50.00')"
      ]
     },
     "execution_count": 17,
     "metadata": {},
     "output_type": "execute_result"
    }
   ],
   "source": [
    "account1.balance"
   ]
  },
  {
   "cell_type": "markdown",
   "id": "d00363c3",
   "metadata": {},
   "source": [
    "Initially, account1 contains a valid balance. Now, let’s set the balance attribute to an invalid negative value, then display the balance:"
   ]
  },
  {
   "cell_type": "code",
   "execution_count": 18,
   "id": "7ed86351",
   "metadata": {},
   "outputs": [],
   "source": [
    "account1.balance = Decimal('-1000.00')"
   ]
  },
  {
   "cell_type": "code",
   "execution_count": 19,
   "id": "e8a827c5",
   "metadata": {},
   "outputs": [
    {
     "data": {
      "text/plain": [
       "Decimal('-1000.00')"
      ]
     },
     "execution_count": 19,
     "metadata": {},
     "output_type": "execute_result"
    }
   ],
   "source": [
    "account1.balance"
   ]
  },
  {
   "cell_type": "markdown",
   "id": "2c1c2388",
   "metadata": {},
   "source": [
    "## 10.4 Properties for Data Access"
   ]
  },
  {
   "cell_type": "markdown",
   "id": "4ac81e4c",
   "metadata": {},
   "source": [
    "10.4.1 Test-Driving Class Time"
   ]
  },
  {
   "cell_type": "code",
   "execution_count": 20,
   "id": "5ec65ad4",
   "metadata": {},
   "outputs": [],
   "source": [
    "from timewithproperties import Time"
   ]
  },
  {
   "cell_type": "code",
   "execution_count": 21,
   "id": "b912e803",
   "metadata": {},
   "outputs": [],
   "source": [
    "wake_up = Time(hour=6, minute=30)"
   ]
  },
  {
   "cell_type": "code",
   "execution_count": 22,
   "id": "7e4cd4b8",
   "metadata": {},
   "outputs": [
    {
     "data": {
      "text/plain": [
       "Time(hour=6, minute=30, second=0)"
      ]
     },
     "execution_count": 22,
     "metadata": {},
     "output_type": "execute_result"
    }
   ],
   "source": [
    "wake_up"
   ]
  },
  {
   "cell_type": "code",
   "execution_count": 23,
   "id": "4f3bd9f4",
   "metadata": {},
   "outputs": [
    {
     "name": "stdout",
     "output_type": "stream",
     "text": [
      "6:30:00 AM\n"
     ]
    }
   ],
   "source": [
    "print(wake_up)"
   ]
  },
  {
   "cell_type": "code",
   "execution_count": 24,
   "id": "2e0d8e8d",
   "metadata": {},
   "outputs": [
    {
     "data": {
      "text/plain": [
       "6"
      ]
     },
     "execution_count": 24,
     "metadata": {},
     "output_type": "execute_result"
    }
   ],
   "source": [
    "wake_up.hour"
   ]
  },
  {
   "cell_type": "code",
   "execution_count": 25,
   "id": "38eb6b60",
   "metadata": {},
   "outputs": [],
   "source": [
    "wake_up.set_time(hour=7, minute=45)"
   ]
  },
  {
   "cell_type": "code",
   "execution_count": 26,
   "id": "3586a4ce",
   "metadata": {},
   "outputs": [
    {
     "data": {
      "text/plain": [
       "Time(hour=7, minute=45, second=0)"
      ]
     },
     "execution_count": 26,
     "metadata": {},
     "output_type": "execute_result"
    }
   ],
   "source": [
    " wake_up"
   ]
  },
  {
   "cell_type": "code",
   "execution_count": 27,
   "id": "383ec17d",
   "metadata": {},
   "outputs": [],
   "source": [
    "wake_up.hour = 6"
   ]
  },
  {
   "cell_type": "code",
   "execution_count": 28,
   "id": "68299cc4",
   "metadata": {},
   "outputs": [
    {
     "data": {
      "text/plain": [
       "Time(hour=6, minute=45, second=0)"
      ]
     },
     "execution_count": 28,
     "metadata": {},
     "output_type": "execute_result"
    }
   ],
   "source": [
    "wake_up"
   ]
  },
  {
   "cell_type": "markdown",
   "id": "c427c299",
   "metadata": {},
   "source": [
    "10.4.2 Class Time Definition"
   ]
  },
  {
   "cell_type": "code",
   "execution_count": 29,
   "id": "7eff6f34",
   "metadata": {},
   "outputs": [],
   "source": [
    "def __init__(self, hour=0, minute=0, second=0):\n",
    "        \"\"\"Initialize each attribute.\"\"\"\n",
    "        self.hour = hour  # 0-23\n",
    "        self.minute = minute  # 0-59\n",
    "        self.second = second  # 0-59\n",
    "\n",
    "@property\n",
    "def hour(self):\n",
    "        \"\"\"Return the hour.\"\"\"\n",
    "        return self._hour\n",
    "\n",
    "@hour.setter\n",
    "def hour(self, hour):\n",
    "        \"\"\"Set the hour.\"\"\"\n",
    "        if not (0 <= hour < 24):\n",
    "            raise ValueError(f'Hour ({hour}) must be 0-23')\n",
    "\n",
    "        self._hour = hour\n",
    "\n",
    "@property\n",
    "def minute(self):\n",
    "        \"\"\"Return the minute.\"\"\"\n",
    "        return self._minute\n",
    "\n",
    "@minute.setter\n",
    "def minute(self, minute):\n",
    "        \"\"\"Set the minute.\"\"\"\n",
    "        if not (0 <= minute < 60):\n",
    "            raise ValueError(f'Minute ({minute}) must be 0-59')\n",
    "\n",
    "        self._minute = minute\n",
    "\n",
    "@property\n",
    "def second(self):\n",
    "        \"\"\"Return the second.\"\"\"\n",
    "        return self._second\n",
    "\n",
    "@second.setter\n",
    "def second(self, second):\n",
    "        \"\"\"Set the second.\"\"\"\n",
    "        if not (0 <= second < 60):\n",
    "            raise ValueError(f'Second ({second}) must be 0-59')\n",
    "\n",
    "        self._second = second\n",
    "\n",
    "def set_time(self, hour=0, minute=0, second=0):\n",
    "        \"\"\"Set values of hour, minute, and second.\"\"\"\n",
    "        self.hour = hour\n",
    "        self.minute = minute\n",
    "        self.second = second\n",
    "\n",
    "def __repr__(self):\n",
    "        \"\"\"Return Time string for repr().\"\"\"\n",
    "        return (f'Time(hour={self.hour}, minute={self.minute}, ' + \n",
    "                f'second={self.second})')\n",
    "\n",
    "def __str__(self):\n",
    "        \"\"\"Return Time string in 12-hour clock format.\"\"\"\n",
    "        return (('12' if self.hour in (0, 12) else str(self.hour % 12)) + \n",
    "                f':{self.minute:0>2}:{self.second:0>2}' + \n",
    "                (' AM' if self.hour < 12 else ' PM'))\n"
   ]
  },
  {
   "cell_type": "code",
   "execution_count": 30,
   "id": "beaf9481",
   "metadata": {},
   "outputs": [
    {
     "data": {
      "text/plain": [
       "6"
      ]
     },
     "execution_count": 30,
     "metadata": {},
     "output_type": "execute_result"
    }
   ],
   "source": [
    "wake_up.hour"
   ]
  },
  {
   "cell_type": "code",
   "execution_count": 31,
   "id": "ebb01128",
   "metadata": {},
   "outputs": [],
   "source": [
    "wake_up.hour = 8"
   ]
  },
  {
   "cell_type": "markdown",
   "id": "6ac0d59a",
   "metadata": {},
   "source": [
    "Self Check"
   ]
  },
  {
   "cell_type": "code",
   "execution_count": 32,
   "id": "7f8e5705",
   "metadata": {},
   "outputs": [],
   "source": [
    "@property\n",
    "def time(self):\n",
    "    \"\"\"Return hour, minute and second as a tuple.\"\"\"\n",
    "    return (self.hour, self.minute, self.second)"
   ]
  },
  {
   "cell_type": "code",
   "execution_count": 33,
   "id": "b8f445d1",
   "metadata": {},
   "outputs": [],
   "source": [
    "@time.setter\n",
    "def time(self, time_tuple):\n",
    "    \"\"\"Set time from a tuple containing hour, minute and second.\"\"\"\n",
    "    self.set_time(time_tuple[0], time_tuple[1], time_tuple[2])"
   ]
  },
  {
   "cell_type": "code",
   "execution_count": 34,
   "id": "c4776951",
   "metadata": {},
   "outputs": [],
   "source": [
    "from timewithproperties import Time"
   ]
  },
  {
   "cell_type": "code",
   "execution_count": 35,
   "id": "db00db84",
   "metadata": {},
   "outputs": [],
   "source": [
    "t = Time()"
   ]
  },
  {
   "cell_type": "code",
   "execution_count": 36,
   "id": "82ffad65",
   "metadata": {},
   "outputs": [
    {
     "data": {
      "text/plain": [
       "Time(hour=0, minute=0, second=0)"
      ]
     },
     "execution_count": 36,
     "metadata": {},
     "output_type": "execute_result"
    }
   ],
   "source": [
    "t"
   ]
  },
  {
   "cell_type": "code",
   "execution_count": 37,
   "id": "de4b4349",
   "metadata": {},
   "outputs": [],
   "source": [
    "t.time = (12, 30, 45)"
   ]
  },
  {
   "cell_type": "code",
   "execution_count": 38,
   "id": "4ae309f2",
   "metadata": {},
   "outputs": [
    {
     "data": {
      "text/plain": [
       "(12, 30, 45)"
      ]
     },
     "execution_count": 38,
     "metadata": {},
     "output_type": "execute_result"
    }
   ],
   "source": [
    "t.time"
   ]
  },
  {
   "cell_type": "markdown",
   "id": "db371153",
   "metadata": {},
   "source": [
    "## 10.4.3 Class Time Definition Design Notes"
   ]
  },
  {
   "cell_type": "code",
   "execution_count": 39,
   "id": "41159ff4",
   "metadata": {},
   "outputs": [],
   "source": [
    "from timewithproperties import Time"
   ]
  },
  {
   "cell_type": "code",
   "execution_count": 40,
   "id": "f85d4f3b",
   "metadata": {},
   "outputs": [],
   "source": [
    "wake_up = Time(hour=7, minute=45, second=30)"
   ]
  },
  {
   "cell_type": "code",
   "execution_count": 41,
   "id": "5848fa0b",
   "metadata": {},
   "outputs": [
    {
     "data": {
      "text/plain": [
       "7"
      ]
     },
     "execution_count": 41,
     "metadata": {},
     "output_type": "execute_result"
    }
   ],
   "source": [
    "wake_up._hour"
   ]
  },
  {
   "cell_type": "code",
   "execution_count": 42,
   "id": "f47921ab",
   "metadata": {},
   "outputs": [],
   "source": [
    "wake_up._hour = 100"
   ]
  },
  {
   "cell_type": "code",
   "execution_count": 43,
   "id": "c2ce6c9d",
   "metadata": {},
   "outputs": [
    {
     "data": {
      "text/plain": [
       "Time(hour=100, minute=45, second=30)"
      ]
     },
     "execution_count": 43,
     "metadata": {},
     "output_type": "execute_result"
    }
   ],
   "source": [
    "wake_up"
   ]
  },
  {
   "cell_type": "markdown",
   "id": "32a4e9f6",
   "metadata": {},
   "source": [
    "## 10.5 Simulating “Private” Attributes"
   ]
  },
  {
   "cell_type": "code",
   "execution_count": 44,
   "id": "6c4234ab",
   "metadata": {},
   "outputs": [],
   "source": [
    "wake_up._hour = 100"
   ]
  },
  {
   "cell_type": "code",
   "execution_count": 45,
   "id": "8eb3be04",
   "metadata": {},
   "outputs": [
    {
     "data": {
      "text/plain": [
       "Time(hour=100, minute=45, second=30)"
      ]
     },
     "execution_count": 45,
     "metadata": {},
     "output_type": "execute_result"
    }
   ],
   "source": [
    "wake_up"
   ]
  },
  {
   "cell_type": "code",
   "execution_count": 46,
   "id": "d7020c00",
   "metadata": {},
   "outputs": [],
   "source": [
    "from private import PrivateClass"
   ]
  },
  {
   "cell_type": "code",
   "execution_count": 47,
   "id": "e6b6c25f",
   "metadata": {},
   "outputs": [],
   "source": [
    "my_object = PrivateClass()"
   ]
  },
  {
   "cell_type": "code",
   "execution_count": 48,
   "id": "3b488cd6",
   "metadata": {},
   "outputs": [
    {
     "data": {
      "text/plain": [
       "'public'"
      ]
     },
     "execution_count": 48,
     "metadata": {},
     "output_type": "execute_result"
    }
   ],
   "source": [
    "my_object.public_data"
   ]
  },
  {
   "cell_type": "markdown",
   "id": "4f836794",
   "metadata": {},
   "source": [
    "## 10.6 Case Study: Card Shuffling and Dealing Simulation"
   ]
  },
  {
   "cell_type": "code",
   "execution_count": 49,
   "id": "bebc055c",
   "metadata": {},
   "outputs": [],
   "source": [
    "from deck import DeckOfCards"
   ]
  },
  {
   "cell_type": "code",
   "execution_count": 50,
   "id": "2a868f70",
   "metadata": {},
   "outputs": [],
   "source": [
    "deck_of_cards = DeckOfCards()"
   ]
  },
  {
   "cell_type": "code",
   "execution_count": 51,
   "id": "914836bf",
   "metadata": {},
   "outputs": [
    {
     "name": "stdout",
     "output_type": "stream",
     "text": [
      "Ace of Hearts      2 of Hearts        3 of Hearts        4 of Hearts        \n",
      "5 of Hearts        6 of Hearts        7 of Hearts        8 of Hearts        \n",
      "9 of Hearts        10 of Hearts       Jack of Hearts     Queen of Hearts    \n",
      "King of Hearts     Ace of Diamonds    2 of Diamonds      3 of Diamonds      \n",
      "4 of Diamonds      5 of Diamonds      6 of Diamonds      7 of Diamonds      \n",
      "8 of Diamonds      9 of Diamonds      10 of Diamonds     Jack of Diamonds   \n",
      "Queen of Diamonds  King of Diamonds   Ace of Clubs       2 of Clubs         \n",
      "3 of Clubs         4 of Clubs         5 of Clubs         6 of Clubs         \n",
      "7 of Clubs         8 of Clubs         9 of Clubs         10 of Clubs        \n",
      "Jack of Clubs      Queen of Clubs     King of Clubs      Ace of Spades      \n",
      "2 of Spades        3 of Spades        4 of Spades        5 of Spades        \n",
      "6 of Spades        7 of Spades        8 of Spades        9 of Spades        \n",
      "10 of Spades       Jack of Spades     Queen of Spades    King of Spades     \n",
      "\n"
     ]
    }
   ],
   "source": [
    "print(deck_of_cards)"
   ]
  },
  {
   "cell_type": "code",
   "execution_count": 52,
   "id": "4479282f",
   "metadata": {},
   "outputs": [],
   "source": [
    "deck_of_cards.shuffle()"
   ]
  },
  {
   "cell_type": "code",
   "execution_count": 53,
   "id": "583e9858",
   "metadata": {},
   "outputs": [
    {
     "name": "stdout",
     "output_type": "stream",
     "text": [
      "Jack of Clubs      2 of Diamonds      Jack of Hearts     5 of Spades        \n",
      "6 of Spades        Queen of Clubs     9 of Clubs         8 of Hearts        \n",
      "9 of Spades        King of Hearts     8 of Diamonds      6 of Diamonds      \n",
      "5 of Clubs         4 of Clubs         6 of Hearts        8 of Clubs         \n",
      "2 of Clubs         7 of Clubs         Queen of Spades    Ace of Spades      \n",
      "Queen of Hearts    4 of Hearts        8 of Spades        9 of Hearts        \n",
      "King of Clubs      3 of Diamonds      King of Diamonds   Ace of Diamonds    \n",
      "Ace of Hearts      10 of Diamonds     10 of Clubs        Ace of Clubs       \n",
      "King of Spades     5 of Hearts        5 of Diamonds      9 of Diamonds      \n",
      "10 of Spades       4 of Diamonds      7 of Spades        4 of Spades        \n",
      "Queen of Diamonds  7 of Diamonds      10 of Hearts       3 of Clubs         \n",
      "2 of Hearts        7 of Hearts        Jack of Diamonds   3 of Hearts        \n",
      "2 of Spades        6 of Clubs         Jack of Spades     3 of Spades        \n",
      "\n"
     ]
    }
   ],
   "source": [
    "print(deck_of_cards)"
   ]
  },
  {
   "cell_type": "code",
   "execution_count": 54,
   "id": "95fb2d31",
   "metadata": {},
   "outputs": [
    {
     "data": {
      "text/plain": [
       "Card(face='Jack', suit='Clubs')"
      ]
     },
     "execution_count": 54,
     "metadata": {},
     "output_type": "execute_result"
    }
   ],
   "source": [
    "deck_of_cards.deal_card()"
   ]
  },
  {
   "cell_type": "code",
   "execution_count": 55,
   "id": "4cc8d6f6",
   "metadata": {},
   "outputs": [],
   "source": [
    "card = deck_of_cards.deal_card()"
   ]
  },
  {
   "cell_type": "code",
   "execution_count": 56,
   "id": "c210cc7e",
   "metadata": {},
   "outputs": [
    {
     "data": {
      "text/plain": [
       "'2 of Diamonds'"
      ]
     },
     "execution_count": 56,
     "metadata": {},
     "output_type": "execute_result"
    }
   ],
   "source": [
    "str(card)"
   ]
  },
  {
   "cell_type": "code",
   "execution_count": 57,
   "id": "8f32e374",
   "metadata": {},
   "outputs": [
    {
     "data": {
      "text/plain": [
       "'2_of_Diamonds.png'"
      ]
     },
     "execution_count": 57,
     "metadata": {},
     "output_type": "execute_result"
    }
   ],
   "source": [
    "card.image_name"
   ]
  },
  {
   "cell_type": "code",
   "execution_count": 58,
   "id": "36aee808",
   "metadata": {},
   "outputs": [],
   "source": [
    "from deck import DeckOfCards"
   ]
  },
  {
   "cell_type": "code",
   "execution_count": 59,
   "id": "a9c13bf8",
   "metadata": {},
   "outputs": [],
   "source": [
    "deck_of_cards = DeckOfCards()"
   ]
  },
  {
   "cell_type": "code",
   "execution_count": 60,
   "id": "0ed8fd54",
   "metadata": {},
   "outputs": [
    {
     "name": "stdout",
     "output_type": "stream",
     "text": [
      "Using matplotlib backend: <object object at 0x00000183B1D4A750>\n"
     ]
    }
   ],
   "source": [
    "%matplotlib"
   ]
  },
  {
   "cell_type": "code",
   "execution_count": 61,
   "id": "b7179a54",
   "metadata": {},
   "outputs": [],
   "source": [
    "from pathlib import Path"
   ]
  },
  {
   "cell_type": "code",
   "execution_count": 62,
   "id": "d52fe244",
   "metadata": {},
   "outputs": [],
   "source": [
    "path = Path('.').joinpath('card_images')"
   ]
  },
  {
   "cell_type": "code",
   "execution_count": 63,
   "id": "0e779540",
   "metadata": {},
   "outputs": [],
   "source": [
    "import matplotlib.pyplot as plt"
   ]
  },
  {
   "cell_type": "code",
   "execution_count": 64,
   "id": "54ead5d9",
   "metadata": {},
   "outputs": [],
   "source": [
    "import matplotlib.image as mpimg"
   ]
  },
  {
   "cell_type": "code",
   "execution_count": 65,
   "id": "e27d6112",
   "metadata": {},
   "outputs": [],
   "source": [
    "figure, axes_list = plt.subplots(nrows=4, ncols=13)"
   ]
  },
  {
   "cell_type": "markdown",
   "id": "32cd6f64",
   "metadata": {},
   "source": [
    "## 10.7 Inheritance: Base Classes and Subclasses"
   ]
  },
  {
   "cell_type": "markdown",
   "id": "fefe24cb",
   "metadata": {},
   "source": [
    "Often, an object of one class is an object of another class as well. For example, a CarLoan is a Loan as are HomeImprovementLoans and MortgageLoans. Class CarLoan can be said to inherit from class Loan. In this context, class Loan is a base class, and class CarLoan is a subclass. A CarLoan is a specific type of Loan, but it’s incorrect to claim that every Loan is a CarLoan—the Loan could be any type of loan. The following table lists several simple examples of base classes and subclasses—base classes tend to be “more general” and subclasses “more specific”"
   ]
  },
  {
   "cell_type": "markdown",
   "id": "2e419339",
   "metadata": {},
   "source": [
    "## 10.8 Building an Inheritance Hierarchy; Introducing Polymorphism"
   ]
  },
  {
   "cell_type": "code",
   "execution_count": 66,
   "id": "377c04e7",
   "metadata": {},
   "outputs": [],
   "source": [
    "from commissionemployee import CommissionEmployee"
   ]
  },
  {
   "cell_type": "code",
   "execution_count": 67,
   "id": "4487d08f",
   "metadata": {},
   "outputs": [],
   "source": [
    "from decimal import Decimal"
   ]
  },
  {
   "cell_type": "code",
   "execution_count": 68,
   "id": "271224bf",
   "metadata": {},
   "outputs": [],
   "source": [
    "c = CommissionEmployee('Sue', 'Jones', '333-33-3333',\n",
    "   ...:     Decimal('10000.00'), Decimal('0.06'))"
   ]
  },
  {
   "cell_type": "code",
   "execution_count": 69,
   "id": "8ec313c5",
   "metadata": {},
   "outputs": [
    {
     "data": {
      "text/plain": [
       "CommissionEmployee: Sue Jones\n",
       "social security number: 333-33-3333\n",
       "gross sales: 10000.00\n",
       "commission rate: 0.06"
      ]
     },
     "execution_count": 69,
     "metadata": {},
     "output_type": "execute_result"
    }
   ],
   "source": [
    "c"
   ]
  },
  {
   "cell_type": "code",
   "execution_count": 70,
   "id": "223636fc",
   "metadata": {},
   "outputs": [
    {
     "name": "stdout",
     "output_type": "stream",
     "text": [
      "600.00\n"
     ]
    }
   ],
   "source": [
    "print(f'{c.earnings():,.2f}')"
   ]
  },
  {
   "cell_type": "code",
   "execution_count": 71,
   "id": "e80372aa",
   "metadata": {},
   "outputs": [],
   "source": [
    "c.gross_sales = Decimal('20000.00')"
   ]
  },
  {
   "cell_type": "code",
   "execution_count": 72,
   "id": "06349bf5",
   "metadata": {},
   "outputs": [],
   "source": [
    "c.commission_rate = Decimal('0.1')"
   ]
  },
  {
   "cell_type": "code",
   "execution_count": 73,
   "id": "ce3a1dd4",
   "metadata": {},
   "outputs": [
    {
     "name": "stdout",
     "output_type": "stream",
     "text": [
      "2,000.00\n"
     ]
    }
   ],
   "source": [
    "print(f'{c.earnings():,.2f}')"
   ]
  },
  {
   "cell_type": "code",
   "execution_count": 74,
   "id": "c2ccfecd",
   "metadata": {},
   "outputs": [],
   "source": [
    "from salariedcommissionemployee import SalariedCommissionEmployee"
   ]
  },
  {
   "cell_type": "code",
   "execution_count": 75,
   "id": "a9a44704",
   "metadata": {},
   "outputs": [],
   "source": [
    "s = SalariedCommissionEmployee('Bob', 'Lewis', '444-44-4444',\n",
    "    ...:         Decimal('5000.00'), Decimal('0.04'), Decimal('300.00'))"
   ]
  },
  {
   "cell_type": "code",
   "execution_count": 76,
   "id": "f278bae8",
   "metadata": {},
   "outputs": [
    {
     "name": "stdout",
     "output_type": "stream",
     "text": [
      "Bob Lewis 444-44-4444 5000.00 0.04 300.00\n"
     ]
    }
   ],
   "source": [
    "print(s.first_name, s.last_name, s.ssn, s.gross_sales,\n",
    "    ...:       s.commission_rate, s.base_salary)"
   ]
  },
  {
   "cell_type": "code",
   "execution_count": 77,
   "id": "1b3dbe5b",
   "metadata": {},
   "outputs": [
    {
     "name": "stdout",
     "output_type": "stream",
     "text": [
      "500.00\n"
     ]
    }
   ],
   "source": [
    "print(f'{s.earnings():,.2f}')"
   ]
  },
  {
   "cell_type": "code",
   "execution_count": 78,
   "id": "5cabd267",
   "metadata": {},
   "outputs": [],
   "source": [
    "s.gross_sales = Decimal('10000.00')"
   ]
  },
  {
   "cell_type": "code",
   "execution_count": 79,
   "id": "215640fc",
   "metadata": {},
   "outputs": [],
   "source": [
    "s.base_salary = Decimal('1000.00')"
   ]
  },
  {
   "cell_type": "code",
   "execution_count": 80,
   "id": "33816701",
   "metadata": {},
   "outputs": [
    {
     "name": "stdout",
     "output_type": "stream",
     "text": [
      "SalariedCommissionEmployee: Bob Lewis\n",
      "social security number: 444-44-4444\n",
      "gross sales: 10000.00\n",
      "commission rate: 0.04\n",
      "base salary: 1000.00\n"
     ]
    }
   ],
   "source": [
    "print(s)"
   ]
  },
  {
   "cell_type": "code",
   "execution_count": 81,
   "id": "e7b60747",
   "metadata": {},
   "outputs": [
    {
     "name": "stdout",
     "output_type": "stream",
     "text": [
      "1,400.00\n"
     ]
    }
   ],
   "source": [
    "print(f'{s.earnings():,.2f}')"
   ]
  },
  {
   "cell_type": "code",
   "execution_count": 82,
   "id": "d2e27d54",
   "metadata": {},
   "outputs": [
    {
     "data": {
      "text/plain": [
       "True"
      ]
     },
     "execution_count": 82,
     "metadata": {},
     "output_type": "execute_result"
    }
   ],
   "source": [
    "issubclass(SalariedCommissionEmployee, CommissionEmployee)"
   ]
  },
  {
   "cell_type": "code",
   "execution_count": 83,
   "id": "8369689c",
   "metadata": {},
   "outputs": [
    {
     "data": {
      "text/plain": [
       "True"
      ]
     },
     "execution_count": 83,
     "metadata": {},
     "output_type": "execute_result"
    }
   ],
   "source": [
    "isinstance(s, CommissionEmployee)"
   ]
  },
  {
   "cell_type": "code",
   "execution_count": 84,
   "id": "2b86fb08",
   "metadata": {},
   "outputs": [
    {
     "data": {
      "text/plain": [
       "True"
      ]
     },
     "execution_count": 84,
     "metadata": {},
     "output_type": "execute_result"
    }
   ],
   "source": [
    "isinstance(s, SalariedCommissionEmployee)"
   ]
  },
  {
   "cell_type": "markdown",
   "id": "ba6fa5b0",
   "metadata": {},
   "source": [
    "## 10.8.3 Processing CommissionEmployees and SalariedCommissionEmployees Polymorphically"
   ]
  },
  {
   "cell_type": "code",
   "execution_count": 85,
   "id": "c8330783",
   "metadata": {},
   "outputs": [],
   "source": [
    "employees = [c, s]"
   ]
  },
  {
   "cell_type": "code",
   "execution_count": 86,
   "id": "9e94ba92",
   "metadata": {},
   "outputs": [
    {
     "name": "stdout",
     "output_type": "stream",
     "text": [
      "CommissionEmployee: Sue Jones\n",
      "social security number: 333-33-3333\n",
      "gross sales: 20000.00\n",
      "commission rate: 0.10\n",
      "2,000.00\n",
      "\n",
      "SalariedCommissionEmployee: Bob Lewis\n",
      "social security number: 444-44-4444\n",
      "gross sales: 10000.00\n",
      "commission rate: 0.04\n",
      "base salary: 1000.00\n",
      "1,400.00\n",
      "\n"
     ]
    }
   ],
   "source": [
    "for employee in employees:\n",
    "    print(employee)\n",
    "    print(f'{employee.earnings():,.2f}\\n')"
   ]
  },
  {
   "cell_type": "markdown",
   "id": "4251a26d",
   "metadata": {},
   "source": [
    "## 10.9 Duck Typing and Polymorphism"
   ]
  },
  {
   "cell_type": "code",
   "execution_count": 87,
   "id": "b995633f",
   "metadata": {},
   "outputs": [
    {
     "name": "stdout",
     "output_type": "stream",
     "text": [
      "CommissionEmployee: Sue Jones\n",
      "social security number: 333-33-3333\n",
      "gross sales: 20000.00\n",
      "commission rate: 0.10\n",
      "2,000.00\n",
      "\n",
      "SalariedCommissionEmployee: Bob Lewis\n",
      "social security number: 444-44-4444\n",
      "gross sales: 10000.00\n",
      "commission rate: 0.04\n",
      "base salary: 1000.00\n",
      "1,400.00\n",
      "\n"
     ]
    }
   ],
   "source": [
    "for employee in employees:\n",
    "    print(employee)\n",
    "    print(f'{employee.earnings():,.2f}\\n')"
   ]
  },
  {
   "cell_type": "code",
   "execution_count": 88,
   "id": "97e3679d",
   "metadata": {},
   "outputs": [],
   "source": [
    "class WellPaidDuck:\n",
    "   ...:     def __repr__(self):\n",
    "   ...:         return 'I am a well-paid duck'\n",
    "   ...:     def earnings(self):\n",
    "   ...:         return Decimal('1_000_000.00')"
   ]
  },
  {
   "cell_type": "code",
   "execution_count": 89,
   "id": "d788bc18",
   "metadata": {},
   "outputs": [],
   "source": [
    "from decimal import Decimal"
   ]
  },
  {
   "cell_type": "code",
   "execution_count": 90,
   "id": "33a7bf0d",
   "metadata": {},
   "outputs": [],
   "source": [
    "from commissionemployee import CommissionEmployee"
   ]
  },
  {
   "cell_type": "code",
   "execution_count": 91,
   "id": "83f345d3",
   "metadata": {},
   "outputs": [],
   "source": [
    "from salariedcommissionemployee import SalariedCommissionEmployee\n"
   ]
  },
  {
   "cell_type": "code",
   "execution_count": 92,
   "id": "243ca92d",
   "metadata": {},
   "outputs": [],
   "source": [
    "c = CommissionEmployee('Sue', 'Jones', '333-33-3333',\n",
    "   ...:                        Decimal('10000.00'), Decimal('0.06'))"
   ]
  },
  {
   "cell_type": "code",
   "execution_count": 93,
   "id": "23fb6f59",
   "metadata": {},
   "outputs": [],
   "source": [
    "s = SalariedCommissionEmployee('Bob', 'Lewis', '444-44-4444',\n",
    "   ...:     Decimal('5000.00'), Decimal('0.04'), Decimal('300.00'))"
   ]
  },
  {
   "cell_type": "code",
   "execution_count": 94,
   "id": "bfc208d2",
   "metadata": {},
   "outputs": [],
   "source": [
    " d = WellPaidDuck()"
   ]
  },
  {
   "cell_type": "code",
   "execution_count": 95,
   "id": "088440b1",
   "metadata": {},
   "outputs": [],
   "source": [
    " employees = [c, s, d]"
   ]
  },
  {
   "cell_type": "code",
   "execution_count": 96,
   "id": "945076db",
   "metadata": {},
   "outputs": [
    {
     "name": "stdout",
     "output_type": "stream",
     "text": [
      "CommissionEmployee: Sue Jones\n",
      "social security number: 333-33-3333\n",
      "gross sales: 10000.00\n",
      "commission rate: 0.06\n",
      "600.00\n",
      "\n",
      "SalariedCommissionEmployee: Bob Lewis\n",
      "social security number: 444-44-4444\n",
      "gross sales: 5000.00\n",
      "commission rate: 0.04\n",
      "base salary: 300.00\n",
      "500.00\n",
      "\n",
      "I am a well-paid duck\n",
      "1,000,000.00\n",
      "\n"
     ]
    }
   ],
   "source": [
    "for employee in employees:\n",
    "   ...:     print(employee)\n",
    "   ...:     print(f'{employee.earnings():,.2f}\\n')"
   ]
  },
  {
   "cell_type": "markdown",
   "id": "ad67e48d",
   "metadata": {},
   "source": [
    "## 10.10 Operator Overloading"
   ]
  },
  {
   "cell_type": "code",
   "execution_count": 97,
   "id": "73154de1",
   "metadata": {},
   "outputs": [],
   "source": [
    "from complexnumber import Complex"
   ]
  },
  {
   "cell_type": "code",
   "execution_count": 98,
   "id": "3519c1a9",
   "metadata": {},
   "outputs": [],
   "source": [
    "x = Complex(real=2, imaginary=4)"
   ]
  },
  {
   "cell_type": "code",
   "execution_count": 99,
   "id": "d1278b7a",
   "metadata": {},
   "outputs": [
    {
     "data": {
      "text/plain": [
       "(2 + 4i)"
      ]
     },
     "execution_count": 99,
     "metadata": {},
     "output_type": "execute_result"
    }
   ],
   "source": [
    "x"
   ]
  },
  {
   "cell_type": "code",
   "execution_count": 100,
   "id": "102f5842",
   "metadata": {},
   "outputs": [],
   "source": [
    "y = Complex(real=5, imaginary=-1)"
   ]
  },
  {
   "cell_type": "code",
   "execution_count": 101,
   "id": "80f7734a",
   "metadata": {},
   "outputs": [
    {
     "data": {
      "text/plain": [
       "(5 - 1i)"
      ]
     },
     "execution_count": 101,
     "metadata": {},
     "output_type": "execute_result"
    }
   ],
   "source": [
    "y"
   ]
  },
  {
   "cell_type": "code",
   "execution_count": 102,
   "id": "a3217ff5",
   "metadata": {},
   "outputs": [
    {
     "data": {
      "text/plain": [
       "(7 + 3i)"
      ]
     },
     "execution_count": 102,
     "metadata": {},
     "output_type": "execute_result"
    }
   ],
   "source": [
    "x + y"
   ]
  },
  {
   "cell_type": "code",
   "execution_count": 103,
   "id": "ef9efa0c",
   "metadata": {},
   "outputs": [
    {
     "data": {
      "text/plain": [
       "(2 + 4i)"
      ]
     },
     "execution_count": 103,
     "metadata": {},
     "output_type": "execute_result"
    }
   ],
   "source": [
    "x"
   ]
  },
  {
   "cell_type": "code",
   "execution_count": 104,
   "id": "7ddc28ac",
   "metadata": {},
   "outputs": [
    {
     "data": {
      "text/plain": [
       "(5 - 1i)"
      ]
     },
     "execution_count": 104,
     "metadata": {},
     "output_type": "execute_result"
    }
   ],
   "source": [
    "y"
   ]
  },
  {
   "cell_type": "code",
   "execution_count": 105,
   "id": "57a4e002",
   "metadata": {},
   "outputs": [],
   "source": [
    "x += y"
   ]
  },
  {
   "cell_type": "code",
   "execution_count": 106,
   "id": "32846204",
   "metadata": {},
   "outputs": [
    {
     "data": {
      "text/plain": [
       "(7 + 3i)"
      ]
     },
     "execution_count": 106,
     "metadata": {},
     "output_type": "execute_result"
    }
   ],
   "source": [
    "x"
   ]
  },
  {
   "cell_type": "code",
   "execution_count": 107,
   "id": "8b84a88a",
   "metadata": {},
   "outputs": [
    {
     "data": {
      "text/plain": [
       "(5 - 1i)"
      ]
     },
     "execution_count": 107,
     "metadata": {},
     "output_type": "execute_result"
    }
   ],
   "source": [
    "y"
   ]
  },
  {
   "cell_type": "code",
   "execution_count": 108,
   "id": "c942230a",
   "metadata": {},
   "outputs": [],
   "source": [
    "   def __sub__(self, right):\n",
    "       \"\"\"Overrides the - operator.\"\"\"\n",
    "       return Complex(self.real - right.real,\n",
    "                      self.imaginary - right.imaginary)\n",
    "\n",
    "   def __isub__(self, right):\n",
    "       \"\"\"Overrides the -= operator.\"\"\"\n",
    "       self.real -= right.real\n",
    "       self.imaginary -= right.imaginary\n",
    "       return self"
   ]
  },
  {
   "cell_type": "code",
   "execution_count": 109,
   "id": "dc927bc3",
   "metadata": {},
   "outputs": [],
   "source": [
    "from complexnumber2 import Complex"
   ]
  },
  {
   "cell_type": "code",
   "execution_count": 110,
   "id": "6122434a",
   "metadata": {},
   "outputs": [],
   "source": [
    " x = Complex(real=2, imaginary=4)"
   ]
  },
  {
   "cell_type": "code",
   "execution_count": 111,
   "id": "2f35964d",
   "metadata": {},
   "outputs": [],
   "source": [
    " y = Complex(real=5, imaginary=-1)"
   ]
  },
  {
   "cell_type": "code",
   "execution_count": 112,
   "id": "275f3d96",
   "metadata": {},
   "outputs": [
    {
     "data": {
      "text/plain": [
       "(-3 + 5i)"
      ]
     },
     "execution_count": 112,
     "metadata": {},
     "output_type": "execute_result"
    }
   ],
   "source": [
    "x - y"
   ]
  },
  {
   "cell_type": "code",
   "execution_count": 113,
   "id": "5b3a4147",
   "metadata": {},
   "outputs": [],
   "source": [
    "x -= y"
   ]
  },
  {
   "cell_type": "code",
   "execution_count": 114,
   "id": "4c90dc90",
   "metadata": {},
   "outputs": [
    {
     "data": {
      "text/plain": [
       "(-3 + 5i)"
      ]
     },
     "execution_count": 114,
     "metadata": {},
     "output_type": "execute_result"
    }
   ],
   "source": [
    "x"
   ]
  },
  {
   "cell_type": "code",
   "execution_count": 115,
   "id": "0ba1b7ee",
   "metadata": {},
   "outputs": [
    {
     "data": {
      "text/plain": [
       "(5 - 1i)"
      ]
     },
     "execution_count": 115,
     "metadata": {},
     "output_type": "execute_result"
    }
   ],
   "source": [
    "y"
   ]
  },
  {
   "cell_type": "markdown",
   "id": "fcba37d3",
   "metadata": {},
   "source": [
    "## 10.11 Exception Class Hierarchy and Custom Exceptions\n",
    "In the previous chapter, we introduced exception handling. Every exception is an object of a class in Python’s exception class hierarchy11 or an object of a class that inherits from one of those classes. Exception classes inherit directly or indirectly from base class BaseException and are defined in module exceptions"
   ]
  },
  {
   "cell_type": "markdown",
   "id": "8b27c213",
   "metadata": {},
   "source": [
    "## 10.12 Named Tuples"
   ]
  },
  {
   "cell_type": "code",
   "execution_count": 116,
   "id": "7b5cb0ac",
   "metadata": {},
   "outputs": [],
   "source": [
    "from collections import namedtuple"
   ]
  },
  {
   "cell_type": "code",
   "execution_count": 117,
   "id": "c5eb12b8",
   "metadata": {},
   "outputs": [],
   "source": [
    "Card = namedtuple('Card', ['face', 'suit'])"
   ]
  },
  {
   "cell_type": "code",
   "execution_count": 118,
   "id": "1646454c",
   "metadata": {},
   "outputs": [],
   "source": [
    "card = Card(face='Ace', suit='Spades')"
   ]
  },
  {
   "cell_type": "code",
   "execution_count": 119,
   "id": "9ae2f635",
   "metadata": {},
   "outputs": [
    {
     "data": {
      "text/plain": [
       "'Ace'"
      ]
     },
     "execution_count": 119,
     "metadata": {},
     "output_type": "execute_result"
    }
   ],
   "source": [
    "card.face"
   ]
  },
  {
   "cell_type": "code",
   "execution_count": 120,
   "id": "a9e728d9",
   "metadata": {},
   "outputs": [
    {
     "data": {
      "text/plain": [
       "'Spades'"
      ]
     },
     "execution_count": 120,
     "metadata": {},
     "output_type": "execute_result"
    }
   ],
   "source": [
    "card.suit"
   ]
  },
  {
   "cell_type": "code",
   "execution_count": 121,
   "id": "53b78ffd",
   "metadata": {},
   "outputs": [
    {
     "data": {
      "text/plain": [
       "Card(face='Ace', suit='Spades')"
      ]
     },
     "execution_count": 121,
     "metadata": {},
     "output_type": "execute_result"
    }
   ],
   "source": [
    "card"
   ]
  },
  {
   "cell_type": "code",
   "execution_count": 122,
   "id": "325f8c1a",
   "metadata": {},
   "outputs": [],
   "source": [
    "values = ['Queen', 'Hearts']"
   ]
  },
  {
   "cell_type": "code",
   "execution_count": 123,
   "id": "7e494d01",
   "metadata": {},
   "outputs": [],
   "source": [
    "card = Card._make(values)"
   ]
  },
  {
   "cell_type": "code",
   "execution_count": 124,
   "id": "9894061f",
   "metadata": {},
   "outputs": [
    {
     "data": {
      "text/plain": [
       "Card(face='Queen', suit='Hearts')"
      ]
     },
     "execution_count": 124,
     "metadata": {},
     "output_type": "execute_result"
    }
   ],
   "source": [
    "card"
   ]
  },
  {
   "cell_type": "code",
   "execution_count": 125,
   "id": "23c8ce3c",
   "metadata": {},
   "outputs": [
    {
     "data": {
      "text/plain": [
       "{'face': 'Queen', 'suit': 'Hearts'}"
      ]
     },
     "execution_count": 125,
     "metadata": {},
     "output_type": "execute_result"
    }
   ],
   "source": [
    "card._asdict()"
   ]
  },
  {
   "cell_type": "code",
   "execution_count": 126,
   "id": "78444b54",
   "metadata": {},
   "outputs": [],
   "source": [
    "Time = namedtuple('Time', ['hour', 'minute', 'second'])\n"
   ]
  },
  {
   "cell_type": "code",
   "execution_count": 127,
   "id": "2b6bd173",
   "metadata": {},
   "outputs": [],
   "source": [
    "t = Time(13, 30, 45)"
   ]
  },
  {
   "cell_type": "code",
   "execution_count": 128,
   "id": "08c80833",
   "metadata": {},
   "outputs": [
    {
     "name": "stdout",
     "output_type": "stream",
     "text": [
      "13 30 45\n"
     ]
    }
   ],
   "source": [
    "print(t.hour, t.minute, t.second)"
   ]
  },
  {
   "cell_type": "code",
   "execution_count": 129,
   "id": "4bd3d251",
   "metadata": {},
   "outputs": [
    {
     "data": {
      "text/plain": [
       "Time(hour=13, minute=30, second=45)"
      ]
     },
     "execution_count": 129,
     "metadata": {},
     "output_type": "execute_result"
    }
   ],
   "source": [
    "t"
   ]
  },
  {
   "cell_type": "markdown",
   "id": "1b2a8040",
   "metadata": {},
   "source": [
    "## 10.13 A Brief Intro to Python 3.7’s New Data Classes"
   ]
  },
  {
   "cell_type": "code",
   "execution_count": 130,
   "id": "44daf8a1",
   "metadata": {},
   "outputs": [],
   "source": [
    "from carddataclass import Card"
   ]
  },
  {
   "cell_type": "code",
   "execution_count": 131,
   "id": "1c8e164c",
   "metadata": {},
   "outputs": [],
   "source": [
    "c1 = Card(Card.FACES[0], Card.SUITS[3])"
   ]
  },
  {
   "cell_type": "code",
   "execution_count": 132,
   "id": "65d39100",
   "metadata": {},
   "outputs": [
    {
     "data": {
      "text/plain": [
       "Card(face='Ace', suit='Spades')"
      ]
     },
     "execution_count": 132,
     "metadata": {},
     "output_type": "execute_result"
    }
   ],
   "source": [
    "c1"
   ]
  },
  {
   "cell_type": "code",
   "execution_count": 133,
   "id": "acbfe9bf",
   "metadata": {},
   "outputs": [
    {
     "name": "stdout",
     "output_type": "stream",
     "text": [
      "Ace of Spades\n"
     ]
    }
   ],
   "source": [
    "print(c1)"
   ]
  },
  {
   "cell_type": "code",
   "execution_count": 134,
   "id": "f85ac409",
   "metadata": {},
   "outputs": [
    {
     "data": {
      "text/plain": [
       "'Ace'"
      ]
     },
     "execution_count": 134,
     "metadata": {},
     "output_type": "execute_result"
    }
   ],
   "source": [
    "c1.face\n"
   ]
  },
  {
   "cell_type": "code",
   "execution_count": 135,
   "id": "1f8c7a8e",
   "metadata": {},
   "outputs": [
    {
     "data": {
      "text/plain": [
       "'Spades'"
      ]
     },
     "execution_count": 135,
     "metadata": {},
     "output_type": "execute_result"
    }
   ],
   "source": [
    "c1.suit"
   ]
  },
  {
   "cell_type": "code",
   "execution_count": 136,
   "id": "c2dd7d90",
   "metadata": {},
   "outputs": [
    {
     "data": {
      "text/plain": [
       "'Ace_of_Spades.png'"
      ]
     },
     "execution_count": 136,
     "metadata": {},
     "output_type": "execute_result"
    }
   ],
   "source": [
    "c1.image_name"
   ]
  },
  {
   "cell_type": "code",
   "execution_count": 137,
   "id": "42101df2",
   "metadata": {},
   "outputs": [],
   "source": [
    "c2 = Card(Card.FACES[0], Card.SUITS[3])"
   ]
  },
  {
   "cell_type": "code",
   "execution_count": 138,
   "id": "967c56f9",
   "metadata": {},
   "outputs": [
    {
     "data": {
      "text/plain": [
       "Card(face='Ace', suit='Spades')"
      ]
     },
     "execution_count": 138,
     "metadata": {},
     "output_type": "execute_result"
    }
   ],
   "source": [
    "c2"
   ]
  },
  {
   "cell_type": "code",
   "execution_count": 139,
   "id": "585b42fe",
   "metadata": {},
   "outputs": [],
   "source": [
    " c3 = Card(Card.FACES[0], Card.SUITS[0])"
   ]
  },
  {
   "cell_type": "code",
   "execution_count": 140,
   "id": "0752b9fd",
   "metadata": {},
   "outputs": [
    {
     "data": {
      "text/plain": [
       "Card(face='Ace', suit='Hearts')"
      ]
     },
     "execution_count": 140,
     "metadata": {},
     "output_type": "execute_result"
    }
   ],
   "source": [
    "c3"
   ]
  },
  {
   "cell_type": "code",
   "execution_count": 141,
   "id": "43190ca1",
   "metadata": {},
   "outputs": [
    {
     "data": {
      "text/plain": [
       "True"
      ]
     },
     "execution_count": 141,
     "metadata": {},
     "output_type": "execute_result"
    }
   ],
   "source": [
    "c1 == c2"
   ]
  },
  {
   "cell_type": "code",
   "execution_count": 142,
   "id": "9522ea4b",
   "metadata": {},
   "outputs": [
    {
     "data": {
      "text/plain": [
       "False"
      ]
     },
     "execution_count": 142,
     "metadata": {},
     "output_type": "execute_result"
    }
   ],
   "source": [
    "c1 == c3"
   ]
  },
  {
   "cell_type": "code",
   "execution_count": 143,
   "id": "1c4f52d8",
   "metadata": {},
   "outputs": [
    {
     "data": {
      "text/plain": [
       "True"
      ]
     },
     "execution_count": 143,
     "metadata": {},
     "output_type": "execute_result"
    }
   ],
   "source": [
    "c1 != c3"
   ]
  },
  {
   "cell_type": "code",
   "execution_count": 144,
   "id": "291c2a34",
   "metadata": {},
   "outputs": [],
   "source": [
    "from deck2 import DeckOfCards # uses Card data class"
   ]
  },
  {
   "cell_type": "code",
   "execution_count": 145,
   "id": "edefe1f8",
   "metadata": {},
   "outputs": [],
   "source": [
    "deck_of_cards = DeckOfCards()"
   ]
  },
  {
   "cell_type": "code",
   "execution_count": 146,
   "id": "f5191cc4",
   "metadata": {},
   "outputs": [
    {
     "name": "stdout",
     "output_type": "stream",
     "text": [
      "Ace of Hearts      2 of Hearts        3 of Hearts        4 of Hearts        \n",
      "5 of Hearts        6 of Hearts        7 of Hearts        8 of Hearts        \n",
      "9 of Hearts        10 of Hearts       Jack of Hearts     Queen of Hearts    \n",
      "King of Hearts     Ace of Diamonds    2 of Diamonds      3 of Diamonds      \n",
      "4 of Diamonds      5 of Diamonds      6 of Diamonds      7 of Diamonds      \n",
      "8 of Diamonds      9 of Diamonds      10 of Diamonds     Jack of Diamonds   \n",
      "Queen of Diamonds  King of Diamonds   Ace of Clubs       2 of Clubs         \n",
      "3 of Clubs         4 of Clubs         5 of Clubs         6 of Clubs         \n",
      "7 of Clubs         8 of Clubs         9 of Clubs         10 of Clubs        \n",
      "Jack of Clubs      Queen of Clubs     King of Clubs      Ace of Spades      \n",
      "2 of Spades        3 of Spades        4 of Spades        5 of Spades        \n",
      "6 of Spades        7 of Spades        8 of Spades        9 of Spades        \n",
      "10 of Spades       Jack of Spades     Queen of Spades    King of Spades     \n",
      "\n"
     ]
    }
   ],
   "source": [
    "print(deck_of_cards)"
   ]
  },
  {
   "cell_type": "code",
   "execution_count": 147,
   "id": "cbf5dd46",
   "metadata": {},
   "outputs": [],
   "source": [
    "from carddataclass import Card"
   ]
  },
  {
   "cell_type": "code",
   "execution_count": 148,
   "id": "913970c1",
   "metadata": {},
   "outputs": [],
   "source": [
    "c = Card('Ace', 'Spades')"
   ]
  },
  {
   "cell_type": "code",
   "execution_count": 149,
   "id": "70114183",
   "metadata": {},
   "outputs": [
    {
     "data": {
      "text/plain": [
       "Card(face='Ace', suit='Spades')"
      ]
     },
     "execution_count": 149,
     "metadata": {},
     "output_type": "execute_result"
    }
   ],
   "source": [
    "c"
   ]
  },
  {
   "cell_type": "code",
   "execution_count": 150,
   "id": "fbb844f8",
   "metadata": {},
   "outputs": [
    {
     "data": {
      "text/plain": [
       "str"
      ]
     },
     "execution_count": 150,
     "metadata": {},
     "output_type": "execute_result"
    }
   ],
   "source": [
    " type(c.face)"
   ]
  },
  {
   "cell_type": "code",
   "execution_count": 151,
   "id": "43d12406",
   "metadata": {},
   "outputs": [],
   "source": [
    "c.face = 100"
   ]
  },
  {
   "cell_type": "code",
   "execution_count": 152,
   "id": "5cb892f2",
   "metadata": {},
   "outputs": [
    {
     "data": {
      "text/plain": [
       "Card(face=100, suit='Spades')"
      ]
     },
     "execution_count": 152,
     "metadata": {},
     "output_type": "execute_result"
    }
   ],
   "source": [
    "c"
   ]
  },
  {
   "cell_type": "code",
   "execution_count": 153,
   "id": "ed39de22",
   "metadata": {},
   "outputs": [
    {
     "data": {
      "text/plain": [
       "int"
      ]
     },
     "execution_count": 153,
     "metadata": {},
     "output_type": "execute_result"
    }
   ],
   "source": [
    "type(c.face)"
   ]
  },
  {
   "cell_type": "markdown",
   "id": "c0c00fce",
   "metadata": {},
   "source": [
    "## 10.14 Unit Testing with Docstrings and doctest"
   ]
  },
  {
   "cell_type": "markdown",
   "id": "70f0a439",
   "metadata": {},
   "source": [
    "Run the file accountdoctest.py as a script to execute the tests. By default, if you call testmod with no arguments, it does not show test results for successful tests. In that case, if you get no output, all the tests executed successfully. In this example, line 42 calls testmod with the keyword argument verbose=True. This tells testmod to produce verbose output showing every test’s results ## I ran this ipython"
   ]
  },
  {
   "cell_type": "markdown",
   "id": "49bbe08e",
   "metadata": {},
   "source": [
    "Trying:\n",
    "    account1 = Account('John Green', Decimal('50.00'))\n",
    "Expecting nothing\n",
    "ok\n",
    "Trying:\n",
    "    account1.name\n",
    "Expecting:\n",
    "    'John Green'\n",
    "ok\n",
    "Trying:\n",
    "    account1.balance\n",
    "Expecting:\n",
    "    Decimal('50.00')\n",
    "ok\n",
    "Trying:\n",
    "    account2 = Account('John Green', Decimal('-50.00'))\n",
    "Expecting:\n",
    "    Traceback (most recent call last):\n",
    "        ...\n",
    "    ValueError: Initial balance must be >= to 0.00.\n",
    "ok\n",
    "3 items had no tests:\n",
    "    __main__\n",
    "    __main__.Account\n",
    "    __main__.Account.deposit\n",
    "1 items passed all tests:\n",
    "    4 tests in __main__.Account.__init__\n",
    "4 tests in 4 items.\n",
    "4 passed and 0 failed.\n",
    "Test passed."
   ]
  },
  {
   "cell_type": "markdown",
   "id": "52774721",
   "metadata": {},
   "source": [
    "## 10.15 Namespaces and Scopes"
   ]
  },
  {
   "cell_type": "code",
   "execution_count": 154,
   "id": "d72a7c35",
   "metadata": {},
   "outputs": [],
   "source": [
    "z = 'global z'"
   ]
  },
  {
   "cell_type": "code",
   "execution_count": 155,
   "id": "dd0a79b5",
   "metadata": {},
   "outputs": [],
   "source": [
    "def print_variables():\n",
    "   ...:     y = 'local y in print_variables'\n",
    "   ...:     print(y)\n",
    "   ...:     print(z)"
   ]
  },
  {
   "cell_type": "code",
   "execution_count": 156,
   "id": "a2b5c685",
   "metadata": {},
   "outputs": [
    {
     "name": "stdout",
     "output_type": "stream",
     "text": [
      "local y in print_variables\n",
      "global z\n"
     ]
    }
   ],
   "source": [
    "print_variables()"
   ]
  },
  {
   "cell_type": "markdown",
   "id": "bd8d6236",
   "metadata": {},
   "source": [
    "Samantha Cress"
   ]
  }
 ],
 "metadata": {
  "kernelspec": {
   "display_name": "Python 3 (ipykernel)",
   "language": "python",
   "name": "python3"
  },
  "language_info": {
   "codemirror_mode": {
    "name": "ipython",
    "version": 3
   },
   "file_extension": ".py",
   "mimetype": "text/x-python",
   "name": "python",
   "nbconvert_exporter": "python",
   "pygments_lexer": "ipython3",
   "version": "3.9.12"
  }
 },
 "nbformat": 4,
 "nbformat_minor": 5
}
